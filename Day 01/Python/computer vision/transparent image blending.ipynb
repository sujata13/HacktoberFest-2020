{
 "cells": [
  {
   "cell_type": "code",
   "execution_count": 1,
   "metadata": {},
   "outputs": [
    {
     "name": "stdout",
     "output_type": "stream",
     "text": [
      "alpha=1.0, beta=0.0\n",
      "alpha=0.9, beta=0.09999999999999998\n",
      "alpha=0.8, beta=0.19999999999999996\n",
      "alpha=0.7000000000000001, beta=0.29999999999999993\n",
      "alpha=0.6000000000000001, beta=0.3999999999999999\n",
      "alpha=0.5, beta=0.5\n",
      "alpha=0.4, beta=0.6\n",
      "alpha=0.30000000000000004, beta=0.7\n",
      "alpha=0.2, beta=0.8\n",
      "alpha=0.1, beta=0.9\n",
      "alpha=0.0, beta=1.0\n"
     ]
    }
   ],
   "source": [
    "# import the necessary packages\n",
    "from __future__ import print_function\n",
    "import numpy as np\n",
    "import cv2\n",
    "# load the image\n",
    "image = cv2.imread(\"humsn.jpg\")\n",
    "# loop over the alpha transparency values\n",
    "for alpha in np.arange(0, 1.1, 0.1)[::-1]:\n",
    "\t# create two copies of the original image -- one for\n",
    "\t# the overlay and one for the final output image\n",
    "\toverlay = image.copy()\n",
    "\toutput = image.copy()\n",
    "\t# draw a red rectangle surrounding Adrian in the image\n",
    "\t# along with the text \"PyImageSearch\" at the top-left\n",
    "\t# corner\n",
    "\tcv2.rectangle(overlay, (420, 205), (595, 385),\n",
    "\t\t(0, 0, 255), -1)\n",
    "\tcv2.putText(overlay, \"PyImageSearch: alpha={}\".format(alpha),\n",
    "\t\t(10, 30), cv2.FONT_HERSHEY_SIMPLEX, 1.0, (0, 0, 255), 3)\n",
    "\t# apply the overlay\n",
    "\tcv2.addWeighted(overlay, alpha, output, 1 - alpha,\n",
    "\t\t0, output)\n",
    "\t# show the output image\n",
    "\tprint(\"alpha={}, beta={}\".format(alpha, 1 - alpha))\n",
    "\tcv2.imshow(\"Output\", output)\n",
    "\tcv2.waitKey(0)"
   ]
  },
  {
   "cell_type": "code",
   "execution_count": null,
   "metadata": {},
   "outputs": [],
   "source": []
  }
 ],
 "metadata": {
  "kernelspec": {
   "display_name": "Python 3",
   "language": "python",
   "name": "python3"
  },
  "language_info": {
   "codemirror_mode": {
    "name": "ipython",
    "version": 3
   },
   "file_extension": ".py",
   "mimetype": "text/x-python",
   "name": "python",
   "nbconvert_exporter": "python",
   "pygments_lexer": "ipython3",
   "version": "3.7.3"
  }
 },
 "nbformat": 4,
 "nbformat_minor": 2
}
